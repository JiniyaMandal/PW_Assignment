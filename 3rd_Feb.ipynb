{
 "cells": [
  {
   "cell_type": "markdown",
   "id": "1ade4e70-4136-451c-b7ce-d5516aa95124",
   "metadata": {},
   "source": [
    "Q1. Which keyword is used to create a function? Create a function to return a list of odd numbers in the\n",
    "range of 1 to 25."
   ]
  },
  {
   "cell_type": "raw",
   "id": "1dd0cb6b-8fef-49d9-b4ae-7c52047c591d",
   "metadata": {},
   "source": [
    "\"def\" keyword is used to create a function "
   ]
  },
  {
   "cell_type": "code",
   "execution_count": 15,
   "id": "1c824afc-6e73-4daa-8d43-780d6645affb",
   "metadata": {},
   "outputs": [
    {
     "name": "stdout",
     "output_type": "stream",
     "text": [
      "[1, 3, 5, 7, 9, 11, 13, 15, 17, 19, 21, 23, 25]\n"
     ]
    }
   ],
   "source": [
    "def odd_numbers():\n",
    "    l = []\n",
    "    for i in range (1, 26):\n",
    "        if i % 2 != 0:\n",
    "            l.append(i)\n",
    "    return l\n",
    "odd_list = odd_numbers()\n",
    "print (odd_list)\n"
   ]
  },
  {
   "cell_type": "code",
   "execution_count": null,
   "id": "3cf2bb5d-2bc5-4b1d-bc89-5e4a02fb6956",
   "metadata": {},
   "outputs": [],
   "source": []
  },
  {
   "cell_type": "markdown",
   "id": "2147377d-87de-40e2-8cf5-468ea3dbb0df",
   "metadata": {},
   "source": [
    "Q2. Why *args and **kwargs is used in some functions? Create a function each for *args and **kwargs\n",
    "to demonstrate their use."
   ]
  },
  {
   "cell_type": "raw",
   "id": "55d696a6-6a87-4162-b111-1a10d236f380",
   "metadata": {},
   "source": [
    "*args - n number of argument can pass in the function in the form of Tuple.\n",
    "**kwargs - it will return in the form of key value , means dictionary."
   ]
  },
  {
   "cell_type": "code",
   "execution_count": 24,
   "id": "07c74bf8-81d7-42a5-87f4-d9f991be5822",
   "metadata": {},
   "outputs": [
    {
     "data": {
      "text/plain": [
       "tuple"
      ]
     },
     "execution_count": 24,
     "metadata": {},
     "output_type": "execute_result"
    }
   ],
   "source": [
    "# *args\n",
    "def test1 (*args):\n",
    "    return args\n",
    "type(test1())"
   ]
  },
  {
   "cell_type": "code",
   "execution_count": 28,
   "id": "b701cb1e-9e65-488d-9760-b1b2f9d1372b",
   "metadata": {},
   "outputs": [
    {
     "data": {
      "text/plain": [
       "dict"
      ]
     },
     "execution_count": 28,
     "metadata": {},
     "output_type": "execute_result"
    }
   ],
   "source": [
    "# **kwargs\n",
    "def test2 (**kwargs):\n",
    "    return kwargs\n",
    "type(test2())"
   ]
  },
  {
   "cell_type": "code",
   "execution_count": null,
   "id": "6c6632c2-84be-4ab7-a8be-6e568b33a823",
   "metadata": {},
   "outputs": [],
   "source": []
  },
  {
   "cell_type": "markdown",
   "id": "f7433c23-5995-4b5d-8ca7-e13ebdc2231a",
   "metadata": {},
   "source": [
    "Q3. What is an iterator in python? Name the method used to initialise the iterator object and the method\n",
    "used for iteration. Use these methods to print the first five elements of the given list [2, 4, 6, 8, 10, 12, 14,\n",
    "16, 18, 20]."
   ]
  },
  {
   "cell_type": "raw",
   "id": "e577f4a3-5726-4048-8c3f-b97fa56faa68",
   "metadata": {},
   "source": [
    "An iterator is an object that contains a countable number of values.\n",
    "It allows you to iterate over collections of data, such as lists, tuples, dictionaries, and set\n",
    "\n",
    "The method used to initialise the iterator object is - iter()\n",
    "and the method used for iteration is - next()"
   ]
  },
  {
   "cell_type": "code",
   "execution_count": 29,
   "id": "d38ffda1-76a7-44b4-96a2-4486116b1c88",
   "metadata": {},
   "outputs": [
    {
     "name": "stdout",
     "output_type": "stream",
     "text": [
      "2\n",
      "4\n",
      "6\n",
      "8\n",
      "10\n"
     ]
    }
   ],
   "source": [
    "my_list = [2, 4, 6, 8, 10, 12, 14, 16, 18, 20]\n",
    "my_iterator = iter(my_list)\n",
    "\n",
    "for _ in range(5):\n",
    "    element = next(my_iterator)\n",
    "    print(element)"
   ]
  },
  {
   "cell_type": "code",
   "execution_count": null,
   "id": "5810af86-349b-49af-9fcc-f79c54dc7dbe",
   "metadata": {},
   "outputs": [],
   "source": []
  },
  {
   "cell_type": "markdown",
   "id": "395c8686-1b55-4c1f-87d1-a5674b9b0024",
   "metadata": {},
   "source": [
    "Q4. What is a generator function in python? Why yield keyword is used? Give an example of a generator\n",
    "function."
   ]
  },
  {
   "cell_type": "raw",
   "id": "746ade3e-86b3-4dff-bf6b-538e3b6cb0a2",
   "metadata": {},
   "source": [
    "Generator function - they allow you to define an iterative algorithm by writing a single function where execution is not continuous.\n",
    "the yield keyword is used to produce a value from the generator."
   ]
  },
  {
   "cell_type": "code",
   "execution_count": 31,
   "id": "906b83b3-0845-498d-b22d-d6a2a39861f4",
   "metadata": {},
   "outputs": [
    {
     "name": "stdout",
     "output_type": "stream",
     "text": [
      "0\n",
      "1\n",
      "1\n",
      "2\n",
      "3\n",
      "5\n",
      "8\n",
      "13\n",
      "21\n",
      "34\n"
     ]
    }
   ],
   "source": [
    "# * Fibonacci series using generator function *\n",
    "def test_fib(n):\n",
    "    a,b = 0,1\n",
    "    for i in range (n):\n",
    "        yield a      \n",
    "        a,b = b, a+b\n",
    "for i in test_fib(10):\n",
    "    print(i)"
   ]
  },
  {
   "cell_type": "code",
   "execution_count": null,
   "id": "a9c59609-ebd9-4544-a724-3481d9afa316",
   "metadata": {},
   "outputs": [],
   "source": []
  },
  {
   "cell_type": "markdown",
   "id": "abcfe4e5-9df9-4622-99c1-dc7e2484c907",
   "metadata": {},
   "source": [
    "Q5. Create a generator function for prime numbers less than 1000. Use the next() method to print the\n",
    "first 20 prime numbers."
   ]
  },
  {
   "cell_type": "code",
   "execution_count": 33,
   "id": "cfb8efb0-0394-45db-aa8f-0215ef2b4bec",
   "metadata": {},
   "outputs": [
    {
     "name": "stdout",
     "output_type": "stream",
     "text": [
      "2\n",
      "3\n",
      "5\n",
      "7\n",
      "11\n",
      "13\n",
      "17\n",
      "19\n",
      "23\n",
      "29\n",
      "31\n",
      "37\n",
      "41\n",
      "43\n",
      "47\n",
      "53\n",
      "59\n",
      "61\n",
      "67\n",
      "71\n"
     ]
    }
   ],
   "source": [
    "def gen_prime():\n",
    "    prime = []\n",
    "    num =2\n",
    "    \n",
    "    while True:\n",
    "        if all(num % p != 0 for p in prime):\n",
    "            prime.append(num)\n",
    "            yield num\n",
    "        num += 1\n",
    "        \n",
    "prime_generator = gen_prime()\n",
    "\n",
    "for _ in range(20):\n",
    "    prime = next(prime_generator)\n",
    "    print(prime)"
   ]
  },
  {
   "cell_type": "code",
   "execution_count": null,
   "id": "39360e23-26f6-425f-9f3f-323a7d74c0ca",
   "metadata": {},
   "outputs": [],
   "source": []
  },
  {
   "cell_type": "markdown",
   "id": "86ecc456-7a52-4786-b6a8-bdb5c136d2d8",
   "metadata": {},
   "source": [
    "Q6. Write a python program to print the first 10 Fibonacci numbers using a while loop."
   ]
  },
  {
   "cell_type": "code",
   "execution_count": 34,
   "id": "25c3413c-7973-4bfb-8d62-e2a0e7f3c863",
   "metadata": {},
   "outputs": [
    {
     "name": "stdout",
     "output_type": "stream",
     "text": [
      "0\n",
      "1\n",
      "1\n",
      "2\n",
      "3\n",
      "5\n",
      "8\n",
      "13\n",
      "21\n",
      "34\n"
     ]
    }
   ],
   "source": [
    "def test_fib1():\n",
    "    a,b = 0,1\n",
    "    while True:\n",
    "        yield a      #the yield keyword is used to produce a value from the generator.\n",
    "        a,b = b, a+b\n",
    "fib = test_fib1()\n",
    "for i in range (10):\n",
    "    print(next(fib))"
   ]
  },
  {
   "cell_type": "code",
   "execution_count": null,
   "id": "6c35752c-e873-434c-9571-45fdd5fe4366",
   "metadata": {},
   "outputs": [],
   "source": []
  },
  {
   "cell_type": "markdown",
   "id": "f91c99aa-fc9a-404d-96cb-b49cb45a27db",
   "metadata": {},
   "source": [
    "Q7. Write a List Comprehension to iterate through the given string: ‘pwskills’.\n",
    "Expected output: ['p', 'w', 's', 'k', 'i', 'l', 'l', 's']"
   ]
  },
  {
   "cell_type": "code",
   "execution_count": 35,
   "id": "a8249d3c-9e98-4d16-a637-d8d97e3a06d3",
   "metadata": {},
   "outputs": [
    {
     "data": {
      "text/plain": [
       "['p', 'w', 's', 'k', 'i', 'l', 'l', 's']"
      ]
     },
     "execution_count": 35,
     "metadata": {},
     "output_type": "execute_result"
    }
   ],
   "source": [
    "string = \"pwskills\"\n",
    "list(string)"
   ]
  },
  {
   "cell_type": "code",
   "execution_count": 36,
   "id": "c64cf48f-7388-432f-a831-d7006df1fa97",
   "metadata": {},
   "outputs": [
    {
     "name": "stdout",
     "output_type": "stream",
     "text": [
      "['p', 'w', 's', 'k', 'i', 'l', 'l', 's']\n"
     ]
    }
   ],
   "source": [
    "string = \"pwskills\"\n",
    "result = [char for char in string]\n",
    "print(result)"
   ]
  },
  {
   "cell_type": "code",
   "execution_count": null,
   "id": "19015f8b-3679-4e6d-b2ee-498c2a51de24",
   "metadata": {},
   "outputs": [],
   "source": []
  },
  {
   "cell_type": "markdown",
   "id": "c595fc1d-cd59-4f30-b7d5-9e426f8429b3",
   "metadata": {},
   "source": [
    "Q8. Write a python program to check whether a given number is Palindrome or not using a while loop."
   ]
  },
  {
   "cell_type": "code",
   "execution_count": 2,
   "id": "e161d375-afa8-480f-afa6-dda4b77a2d13",
   "metadata": {},
   "outputs": [
    {
     "name": "stdin",
     "output_type": "stream",
     "text": [
      "enter the number 25152\n"
     ]
    },
    {
     "name": "stdout",
     "output_type": "stream",
     "text": [
      "the number is palindrome\n"
     ]
    }
   ],
   "source": [
    "num = int(input (\"enter the number\"))\n",
    "temp = num\n",
    "rev = 0\n",
    "\n",
    "while (num > 0) :\n",
    "    dig = num % 10\n",
    "    rev = rev * 10 + dig\n",
    "    num = num // 10\n",
    "    \n",
    "if( temp == rev) :\n",
    "    print (\"the number is palindrome\")\n",
    "else:\n",
    "    print (\"the number is not palindrome\")"
   ]
  },
  {
   "cell_type": "code",
   "execution_count": null,
   "id": "0dbfb1b8-c5bf-4730-aebf-e3b193ab4233",
   "metadata": {},
   "outputs": [],
   "source": []
  },
  {
   "cell_type": "markdown",
   "id": "caaa2766-6ddf-413f-8053-664651db1021",
   "metadata": {},
   "source": [
    "Q9. Write a code to print odd numbers from 1 to 100 using list comprehension."
   ]
  },
  {
   "cell_type": "code",
   "execution_count": 1,
   "id": "acdf46ad-7743-4627-b5dc-9c0fc6b9fb83",
   "metadata": {},
   "outputs": [
    {
     "name": "stdout",
     "output_type": "stream",
     "text": [
      "[1, 3, 5, 7, 9, 11, 13, 15, 17, 19, 21, 23, 25, 27, 29, 31, 33, 35, 37, 39, 41, 43, 45, 47, 49, 51, 53, 55, 57, 59, 61, 63, 65, 67, 69, 71, 73, 75, 77, 79, 81, 83, 85, 87, 89, 91, 93, 95, 97, 99]\n"
     ]
    }
   ],
   "source": [
    "numbers = [num for num in range(1, 101)]\n",
    "odd_numbers = [num for num in numbers if num % 2 != 0]\n",
    "print(odd_numbers)"
   ]
  },
  {
   "cell_type": "code",
   "execution_count": null,
   "id": "ae5150e6-0fe8-4b1c-bce9-2e24371a159a",
   "metadata": {},
   "outputs": [],
   "source": []
  },
  {
   "cell_type": "code",
   "execution_count": null,
   "id": "d3f851a0-039d-4925-9854-722a45bc8a2e",
   "metadata": {},
   "outputs": [],
   "source": []
  }
 ],
 "metadata": {
  "kernelspec": {
   "display_name": "Python 3 (ipykernel)",
   "language": "python",
   "name": "python3"
  },
  "language_info": {
   "codemirror_mode": {
    "name": "ipython",
    "version": 3
   },
   "file_extension": ".py",
   "mimetype": "text/x-python",
   "name": "python",
   "nbconvert_exporter": "python",
   "pygments_lexer": "ipython3",
   "version": "3.10.8"
  }
 },
 "nbformat": 4,
 "nbformat_minor": 5
}
